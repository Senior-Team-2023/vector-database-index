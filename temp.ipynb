{
 "cells": [
  {
   "cell_type": "code",
   "execution_count": 32,
   "metadata": {},
   "outputs": [],
   "source": [
    "import os\n",
    "from typing import Dict, List, Annotated\n",
    "import numpy as np\n",
    "import faiss\n",
    "from sklearn.neighbors import KNeighborsClassifier\n",
    "import pickle\n",
    "import faiss"
   ]
  },
  {
   "cell_type": "code",
   "execution_count": 33,
   "metadata": {},
   "outputs": [],
   "source": [
    "filename = \"0000_0.csv\""
   ]
  },
  {
   "cell_type": "code",
   "execution_count": 34,
   "metadata": {},
   "outputs": [],
   "source": [
    "if filename.endswith(\".csv\"):\n",
    "    bucket_rec = []\n",
    "    with open(f\"./index/{filename}\", \"r\") as fin:\n",
    "        for row in fin.readlines():\n",
    "            row_splits = row.split(\",\")\n",
    "            # the first element is id\n",
    "            id = int(row_splits[0])\n",
    "            # the rest are embed\n",
    "            embed = [float(e) for e in row_splits[1:]]\n",
    "            embed = np.array(embed)\n",
    "            bucket_rec.append((id, embed))\n",
    "        # build the HNSW index\n",
    "        # bucket_rec = np.array(bucket_rec)\n",
    "        # self._HNSW_index(\n",
    "        #     data=bucket_rec,\n",
    "        #     m=128,\n",
    "        #     ef_construction=200,\n",
    "        #     ef_search=32,\n",
    "        #     filename=filename,\n",
    "        # )\n",
    "        # Knn using sklearn\n",
    "        knn = KNeighborsClassifier(n_neighbors=10, metric=\"cosine\")\n",
    "        knn.fit(\n",
    "            np.array([e[1] for e in bucket_rec]),\n",
    "            np.array([e[0] for e in bucket_rec]),\n",
    "        )\n",
    "        # save the index using pickle\n",
    "        with open(f\"./index/{filename}.index\", \"wb\") as fout:\n",
    "            pickle.dump(knn, fout)"
   ]
  },
  {
   "cell_type": "code",
   "execution_count": 35,
   "metadata": {},
   "outputs": [],
   "source": [
    "query = np.array(\n",
    "    [\n",
    "        0.374540119,\n",
    "        0.950714306,\n",
    "        0.731993942,\n",
    "        0.598658484,\n",
    "        0.15601864,\n",
    "        0.15599452,\n",
    "        0.058083612,\n",
    "        0.866176146,\n",
    "        0.601115012,\n",
    "        0.708072578,\n",
    "        0.020584494,\n",
    "        0.969909852,\n",
    "        0.832442641,\n",
    "        0.212339111,\n",
    "        0.181824967,\n",
    "        0.18340451,\n",
    "        0.304242243,\n",
    "        0.524756432,\n",
    "        0.431945019,\n",
    "        0.29122914,\n",
    "        0.611852895,\n",
    "        0.139493861,\n",
    "        0.292144649,\n",
    "        0.366361843,\n",
    "        0.456069984,\n",
    "        0.785175961,\n",
    "        0.199673782,\n",
    "        0.514234438,\n",
    "        0.592414569,\n",
    "        0.046450413,\n",
    "        0.607544852,\n",
    "        0.170524124,\n",
    "        0.065051593,\n",
    "        0.948885537,\n",
    "        0.965632033,\n",
    "        0.808397348,\n",
    "        0.304613769,\n",
    "        0.097672114,\n",
    "        0.684233027,\n",
    "        0.440152494,\n",
    "        0.122038235,\n",
    "        0.49517691,\n",
    "        0.034388521,\n",
    "        0.909320402,\n",
    "        0.258779982,\n",
    "        0.662522284,\n",
    "        0.311711076,\n",
    "        0.520068021,\n",
    "        0.546710279,\n",
    "        0.184854456,\n",
    "        0.969584628,\n",
    "        0.775132823,\n",
    "        0.939498942,\n",
    "        0.89482735,\n",
    "        0.597899979,\n",
    "        0.921874235,\n",
    "        0.088492502,\n",
    "        0.195982862,\n",
    "        0.045227289,\n",
    "        0.325330331,\n",
    "        0.38867729,\n",
    "        0.271349032,\n",
    "        0.828737509,\n",
    "        0.356753327,\n",
    "        0.28093451,\n",
    "        0.542696083,\n",
    "        0.140924225,\n",
    "        0.802196981,\n",
    "        0.074550644,\n",
    "        0.986886937,\n",
    "    ]\n",
    ").reshape(1, -1)"
   ]
  },
  {
   "cell_type": "code",
   "execution_count": 36,
   "metadata": {},
   "outputs": [
    {
     "name": "stdout",
     "output_type": "stream",
     "text": [
      "distances [[0.17026952 0.17234684 0.17359812 0.18428113 0.18996226]]\n",
      "labels [[ 71  17 468 292 260]]\n",
      "Calculating score...\n",
      "[(0.17026951776473387, 71), (0.172346836401846, 17), (0.17359812140504816, 468), (0.1842811340688324, 292), (0.18996225809097111, 260)]\n"
     ]
    }
   ],
   "source": [
    "distances, labels = knn.kneighbors(query, n_neighbors=5)\n",
    "print(\"distances\", distances)\n",
    "print(\"labels\", labels)\n",
    "# calculate the score for each vector in the bucket\n",
    "print(\"Calculating score...\")\n",
    "scores = [(distances[0][i], labels[0][i]) for i in range(len(labels[0]))]\n",
    "scores = sorted(scores)[:5]\n",
    "# return the ids of the top_k records\n",
    "print(scores)"
   ]
  },
  {
   "cell_type": "code",
   "execution_count": 37,
   "metadata": {},
   "outputs": [],
   "source": [
    "def _HNSW_index( data, m, ef_construction, filename, ef_search):\n",
    "    index = faiss.IndexHNSWFlat(70, m)\n",
    "    # set efConstruction and efSearch parameters\n",
    "    index.hnsw.efConstruction = ef_construction\n",
    "    index.hnsw.efSearch = ef_search\n",
    "    # Wrap the index with IDMap\n",
    "    id_map = faiss.IndexIDMap(index)\n",
    "    id_map.add_with_ids(\n",
    "        np.array([e[1] for e in data]), np.array([e[0] for e in data])\n",
    "    )\n",
    "    # save the index\n",
    "    faiss.write_index(id_map, f\"./index/{filename}.index\")"
   ]
  },
  {
   "cell_type": "code",
   "execution_count": 38,
   "metadata": {},
   "outputs": [],
   "source": [
    "bucket_rec = []\n",
    "with open(f\"./index/{filename}\", \"r\") as fin:\n",
    "    for row in fin.readlines():\n",
    "        row_splits = row.split(\",\")\n",
    "        # the first element is id\n",
    "        id = int(row_splits[0])\n",
    "        # the rest are embed\n",
    "        embed = [float(e) for e in row_splits[1:]]\n",
    "        embed = np.array(embed)\n",
    "        bucket_rec.append((id, embed))"
   ]
  },
  {
   "cell_type": "code",
   "execution_count": 39,
   "metadata": {},
   "outputs": [],
   "source": [
    "# bucket_rec = np.array(bucket_rec)\n",
    "_HNSW_index(\n",
    "    data=bucket_rec,\n",
    "    m=128,\n",
    "    ef_construction=200,\n",
    "    ef_search=32,\n",
    "    filename=filename,\n",
    ")"
   ]
  },
  {
   "cell_type": "code",
   "execution_count": 40,
   "metadata": {},
   "outputs": [],
   "source": [
    "loaded_index = faiss.read_index(\n",
    "    f\"./index/{filename}.index\"\n",
    ")"
   ]
  },
  {
   "cell_type": "code",
   "execution_count": 41,
   "metadata": {},
   "outputs": [
    {
     "name": "stdout",
     "output_type": "stream",
     "text": [
      "distances [[8.17793   8.179846  8.186981  8.198956  8.254056  8.345868  8.506533\n",
      "  8.797141  8.8509865 8.917404 ]]\n",
      "labels [[ 950  392 1632  189 6904 4317 3127 9746 7999 7906]]\n",
      "Calculating score...\n",
      "[(8.17793, 950), (8.179846, 392), (8.186981, 1632), (8.198956, 189), (8.254056, 6904), (8.345868, 4317), (8.506533, 3127), (8.797141, 9746), (8.8509865, 7999), (8.917404, 7906)]\n"
     ]
    }
   ],
   "source": [
    "distances, labels = loaded_index.search(query, 10)\n",
    "print(\"distances\", distances)\n",
    "print(\"labels\", labels)\n",
    "# calculate the score for each vector in the bucket\n",
    "print(\"Calculating score...\")\n",
    "scores = [(distances[0][i], labels[0][i]) for i in range(len(labels[0]))]\n",
    "scores = sorted(scores)[:10]\n",
    "# return the ids of the top_k records\n",
    "print(scores)\n",
    "# return [s[1] for s in scores]"
   ]
  },
  {
   "cell_type": "code",
   "execution_count": 3,
   "metadata": {},
   "outputs": [
    {
     "name": "stdout",
     "output_type": "stream",
     "text": [
      "['0010', '1000', '1011']\n"
     ]
    }
   ],
   "source": [
    "from itertools import product\n",
    "\n",
    "def hamming_distance(str1, str2):\n",
    "    return sum(c1 != c2 for c1, c2 in zip(str1, str2))\n",
    "\n",
    "def nearest_strings(binary_string, m):\n",
    "    n = len(binary_string)\n",
    "    all_strings = [''.join(bits) for bits in product('01', repeat=n)]\n",
    "    distances = [(other_str, hamming_distance(binary_string, other_str)) for other_str in all_strings]\n",
    "    distances.sort(key=lambda x: x[1])\n",
    "    return [str_dist[0] for str_dist in distances[1:m+1]]\n",
    "\n",
    "# Example usage:\n",
    "binary_string = '1010'  # Replace with your binary string\n",
    "m = 3  # Replace with the number of nearest strings you want\n",
    "print(nearest_strings(binary_string, m))"
   ]
  }
 ],
 "metadata": {
  "kernelspec": {
   "display_name": "Python 3",
   "language": "python",
   "name": "python3"
  },
  "language_info": {
   "codemirror_mode": {
    "name": "ipython",
    "version": 3
   },
   "file_extension": ".py",
   "mimetype": "text/x-python",
   "name": "python",
   "nbconvert_exporter": "python",
   "pygments_lexer": "ipython3",
   "version": "3.11.4"
  }
 },
 "nbformat": 4,
 "nbformat_minor": 2
}
